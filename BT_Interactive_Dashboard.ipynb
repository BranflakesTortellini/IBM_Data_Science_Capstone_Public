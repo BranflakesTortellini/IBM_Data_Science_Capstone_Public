{
 "cells": [
  {
   "cell_type": "markdown",
   "id": "bff5089e-aa10-401d-9e00-a4ffd788ec7d",
   "metadata": {},
   "source": [
    "### BT's Hands-on Lab: Build an Interactive Dashboard with Ploty Dash\n",
    "Rather than using the provided theiadocker instance that does not persist data, I am adapting the assignment to be run on jupyter notebook, original assignment instructions here: https://cf-courses-data.s3.us.cloud-object-storage.appdomain.cloud/IBM-DS0321EN-SkillsNetwork/labs/module_3/lab_theia_plotly_dash.md.html - brt-h"
   ]
  },
  {
   "cell_type": "code",
   "execution_count": 1,
   "id": "e2a644d7-26bd-40e2-95cd-4f2bcf506587",
   "metadata": {},
   "outputs": [],
   "source": []
  },
  {
   "cell_type": "code",
   "execution_count": 1,
   "id": "6cfffa60-ff59-4fa8-9a8f-064f7c50b119",
   "metadata": {
    "tags": []
   },
   "outputs": [],
   "source": [
    "#Install these dependancies if you haven't already\n",
    "\n",
    "#!pip install dash\n",
    "#!pip install jupyter_dash\n",
    "#!pip install plotly\n",
    "#!pip install tensorflow-gpu"
   ]
  },
  {
   "cell_type": "code",
   "execution_count": 3,
   "id": "9ceea910-97b3-4d8b-84c4-7833b0127e71",
   "metadata": {},
   "outputs": [],
   "source": [
    "from jupyter_dash.comms import _send_jupyter_config_comm_request\n",
    "_send_jupyter_config_comm_request()"
   ]
  },
  {
   "cell_type": "code",
   "execution_count": 4,
   "id": "22c56070-11cd-4f40-ad9d-bd1d600fcd53",
   "metadata": {},
   "outputs": [
    {
     "name": "stderr",
     "output_type": "stream",
     "text": [
      "C:\\Users\\Brandon\\AppData\\Local\\Temp\\ipykernel_33328\\2019867247.py:3: UserWarning: \n",
      "The dash_html_components package is deprecated. Please replace\n",
      "`import dash_html_components as html` with `from dash import html`\n",
      "  import dash_html_components as html\n",
      "C:\\Users\\Brandon\\AppData\\Local\\Temp\\ipykernel_33328\\2019867247.py:4: UserWarning: \n",
      "The dash_core_components package is deprecated. Please replace\n",
      "`import dash_core_components as dcc` with `from dash import dcc`\n",
      "  import dash_core_components as dcc\n"
     ]
    }
   ],
   "source": [
    "import pandas as pd\n",
    "import dash\n",
    "import dash_html_components as html\n",
    "import dash_core_components as dcc\n",
    "from dash.dependencies import Input, Output\n",
    "from jupyter_dash import JupyterDash\n",
    "import plotly.graph_objects as go\n",
    "import tensorflow as tf "
   ]
  },
  {
   "cell_type": "code",
   "execution_count": 5,
   "id": "7d6ce49c-1a48-4b92-9bdc-177c050aba38",
   "metadata": {
    "tags": []
   },
   "outputs": [
    {
     "name": "stdout",
     "output_type": "stream",
     "text": [
      "Package                      Version\n",
      "---------------------------- --------------------\n",
      "absl-py                      1.4.0\n",
      "ansi2html                    1.8.0\n",
      "anyio                        3.5.0\n",
      "argon2-cffi                  21.3.0\n",
      "argon2-cffi-bindings         21.2.0\n",
      "asttokens                    2.0.5\n",
      "astunparse                   1.6.3\n",
      "attrs                        22.1.0\n",
      "Babel                        2.11.0\n",
      "backcall                     0.2.0\n",
      "beautifulsoup4               4.11.1\n",
      "bleach                       4.1.0\n",
      "Bottleneck                   1.3.5\n",
      "branca                       0.6.0\n",
      "brotlipy                     0.7.0\n",
      "cachetools                   5.2.1\n",
      "certifi                      2022.12.7\n",
      "cffi                         1.15.1\n",
      "charset-normalizer           2.1.1\n",
      "click                        8.1.3\n",
      "colorama                     0.4.6\n",
      "comm                         0.1.2\n",
      "contourpy                    1.0.5\n",
      "cryptography                 38.0.4\n",
      "cycler                       0.11.0\n",
      "daal4py                      2021.6.0\n",
      "dash                         2.7.1\n",
      "dash-core-components         2.0.0\n",
      "dash-html-components         2.0.0\n",
      "dash-table                   5.0.0\n",
      "debugpy                      1.5.1\n",
      "decorator                    5.1.1\n",
      "defusedxml                   0.7.1\n",
      "entrypoints                  0.4\n",
      "executing                    0.8.3\n",
      "fastjsonschema               2.16.2\n",
      "Flask                        2.2.2\n",
      "flatbuffers                  23.1.4\n",
      "flit_core                    3.6.0\n",
      "folium                       0.14.0\n",
      "fonttools                    4.25.0\n",
      "gast                         0.4.0\n",
      "google-auth                  2.16.0\n",
      "google-auth-oauthlib         0.4.6\n",
      "google-pasta                 0.2.0\n",
      "grpcio                       1.51.1\n",
      "h5py                         3.7.0\n",
      "html5lib                     1.1\n",
      "ibm-db                       3.1.4\n",
      "ibm-db-sa                    0.3.8\n",
      "idna                         3.4\n",
      "importlib-metadata           6.0.0\n",
      "importlib-resources          5.2.0\n",
      "ipykernel                    6.19.2\n",
      "ipython                      8.7.0\n",
      "ipython-genutils             0.2.0\n",
      "ipython-sql                  0.4.1\n",
      "itsdangerous                 2.1.2\n",
      "jedi                         0.18.1\n",
      "Jinja2                       3.1.2\n",
      "joblib                       1.1.1\n",
      "json5                        0.9.6\n",
      "jsonschema                   4.16.0\n",
      "jupyter_client               7.4.8\n",
      "jupyter_core                 5.1.1\n",
      "jupyter-dash                 0.4.2\n",
      "jupyter-server               1.23.4\n",
      "jupyterlab                   3.5.2\n",
      "jupyterlab-pygments          0.1.2\n",
      "jupyterlab_server            2.16.5\n",
      "keras                        2.10.0\n",
      "Keras-Preprocessing          1.1.2\n",
      "kiwisolver                   1.4.4\n",
      "libclang                     15.0.6.1\n",
      "lxml                         4.9.1\n",
      "Markdown                     3.4.1\n",
      "MarkupSafe                   2.1.1\n",
      "matplotlib                   3.6.2\n",
      "matplotlib-inline            0.1.6\n",
      "mistune                      0.8.4\n",
      "mkl-fft                      1.3.1\n",
      "mkl-random                   1.2.2\n",
      "mkl-service                  2.4.0\n",
      "munkres                      1.1.4\n",
      "nbclassic                    0.4.8\n",
      "nbclient                     0.5.13\n",
      "nbconvert                    6.5.4\n",
      "nbformat                     5.7.0\n",
      "nest-asyncio                 1.5.6\n",
      "notebook                     6.5.2\n",
      "notebook_shim                0.2.2\n",
      "numexpr                      2.8.4\n",
      "numpy                        1.24.1\n",
      "oauthlib                     3.2.2\n",
      "opt-einsum                   3.3.0\n",
      "packaging                    23.0\n",
      "pandas                       1.1.5\n",
      "pandocfilters                1.5.0\n",
      "parso                        0.8.3\n",
      "pickleshare                  0.7.5\n",
      "Pillow                       9.3.0\n",
      "pip                          22.3.1\n",
      "pkgutil_resolve_name         1.3.10\n",
      "platformdirs                 2.5.2\n",
      "plotly                       5.11.0\n",
      "ply                          3.11\n",
      "prettytable                  0.7.2\n",
      "prometheus-client            0.14.1\n",
      "prompt-toolkit               3.0.36\n",
      "protobuf                     3.19.6\n",
      "psutil                       5.9.0\n",
      "pure-eval                    0.2.2\n",
      "pyasn1                       0.4.8\n",
      "pyasn1-modules               0.2.8\n",
      "pycparser                    2.21\n",
      "Pygments                     2.11.2\n",
      "pyodbc                       4.0.34\n",
      "pyOpenSSL                    22.0.0\n",
      "pyparsing                    3.0.9\n",
      "PyQt5                        5.15.7\n",
      "PyQt5-sip                    12.11.0\n",
      "pyrsistent                   0.18.0\n",
      "PySocks                      1.7.1\n",
      "python-dateutil              2.8.2\n",
      "pytz                         2022.7\n",
      "pywin32                      305.1\n",
      "pywinpty                     2.0.2\n",
      "pyzmq                        23.2.0\n",
      "requests                     2.28.1\n",
      "requests-oauthlib            1.3.1\n",
      "retrying                     1.3.4\n",
      "rsa                          4.9\n",
      "scikit-learn                 1.0.2\n",
      "scikit-learn-intelex         2021.20221004.171645\n",
      "scipy                        1.9.3\n",
      "seaborn                      0.12.1\n",
      "Send2Trash                   1.8.0\n",
      "setuptools                   65.6.3\n",
      "sip                          6.6.2\n",
      "six                          1.16.0\n",
      "sklearn                      0.0.post1\n",
      "sniffio                      1.2.0\n",
      "soupsieve                    2.3.2.post1\n",
      "SQLAlchemy                   1.3.9\n",
      "sqlparse                     0.4.3\n",
      "stack-data                   0.2.0\n",
      "tabulate                     0.9.0\n",
      "tenacity                     8.1.0\n",
      "tensorboard                  2.10.1\n",
      "tensorboard-data-server      0.6.1\n",
      "tensorboard-plugin-wit       1.8.1\n",
      "tensorflow-estimator         2.10.0\n",
      "tensorflow-gpu               2.10.1\n",
      "tensorflow-io-gcs-filesystem 0.29.0\n",
      "termcolor                    2.2.0\n",
      "terminado                    0.17.1\n",
      "threadpoolctl                2.2.0\n",
      "tinycss2                     1.2.1\n",
      "toml                         0.10.2\n",
      "tomli                        2.0.1\n",
      "tornado                      6.2\n",
      "traitlets                    5.7.1\n",
      "typing_extensions            4.4.0\n",
      "urllib3                      1.26.14\n",
      "wcwidth                      0.2.5\n",
      "webencodings                 0.5.1\n",
      "websocket-client             0.58.0\n",
      "Werkzeug                     2.2.2\n",
      "wheel                        0.37.1\n",
      "win-inet-pton                1.1.0\n",
      "wincertstore                 0.2\n",
      "wrapt                        1.14.1\n",
      "zipp                         3.11.0\n"
     ]
    }
   ],
   "source": [
    "!pip list"
   ]
  },
  {
   "cell_type": "code",
   "execution_count": 6,
   "id": "05405fb9-3d9f-4050-b470-f7d265795725",
   "metadata": {
    "tags": []
   },
   "outputs": [],
   "source": [
    "#!jupyter labextension list"
   ]
  },
  {
   "cell_type": "code",
   "execution_count": 5,
   "id": "f337fde7",
   "metadata": {},
   "outputs": [
    {
     "name": "stdout",
     "output_type": "stream",
     "text": [
      "Num GPUs Available:  1\n"
     ]
    }
   ],
   "source": [
    "import tensorflow as tf\n",
    "print(\"Num GPUs Available: \", len(tf.config.list_physical_devices('GPU')))\n"
   ]
  },
  {
   "cell_type": "code",
   "execution_count": 6,
   "id": "d1e4b595",
   "metadata": {},
   "outputs": [
    {
     "data": {
      "text/plain": [
       "[name: \"/device:CPU:0\"\n",
       " device_type: \"CPU\"\n",
       " memory_limit: 268435456\n",
       " locality {\n",
       " }\n",
       " incarnation: 15402470158966154667\n",
       " xla_global_id: -1,\n",
       " name: \"/device:GPU:0\"\n",
       " device_type: \"GPU\"\n",
       " memory_limit: 7787773952\n",
       " locality {\n",
       "   bus_id: 1\n",
       "   links {\n",
       "   }\n",
       " }\n",
       " incarnation: 12294407479394604010\n",
       " physical_device_desc: \"device: 0, name: NVIDIA GeForce RTX 3080, pci bus id: 0000:01:00.0, compute capability: 8.6\"\n",
       " xla_global_id: 416903419]"
      ]
     },
     "execution_count": 6,
     "metadata": {},
     "output_type": "execute_result"
    }
   ],
   "source": [
    "from tensorflow.python.client import device_lib\n",
    "device_lib.list_local_devices()"
   ]
  },
  {
   "cell_type": "code",
   "execution_count": 14,
   "id": "b6cd4cd7",
   "metadata": {},
   "outputs": [],
   "source": [
    "##If you are experiencing an error with your own dash reports then add this to the cell before the proxy config step\n",
    "\n",
    "from jupyter_dash.comms import _send_jupyter_config_comm_request\n",
    "_send_jupyter_config_comm_request()"
   ]
  },
  {
   "cell_type": "code",
   "execution_count": 16,
   "id": "cbc0e745-c087-4255-8bfb-eef2abfbbcdd",
   "metadata": {
    "tags": []
   },
   "outputs": [],
   "source": [
    "JupyterDash.infer_jupyter_proxy_config()"
   ]
  },
  {
   "cell_type": "code",
   "execution_count": 11,
   "id": "79ef755e-5a9c-421a-b092-64007db78ef6",
   "metadata": {},
   "outputs": [],
   "source": []
  },
  {
   "cell_type": "code",
   "execution_count": 12,
   "id": "d42cf460-c547-4b0a-9b3b-165a5e1a331a",
   "metadata": {},
   "outputs": [],
   "source": [
    "spacex_df = pd.read_csv('https://cf-courses-data.s3.us.cloud-object-storage.appdomain.cloud/IBM-DS0321EN-SkillsNetwork/datasets/spacex_launch_dash.csv')"
   ]
  },
  {
   "cell_type": "code",
   "execution_count": 13,
   "id": "d082480c-f1ed-4dd7-9b4c-1f69a4b9ef5f",
   "metadata": {},
   "outputs": [
    {
     "data": {
      "text/html": [
       "\n",
       "        <iframe\n",
       "            width=\"100%\"\n",
       "            height=\"650\"\n",
       "            src=\"http://localhost:8050/\"\n",
       "            frameborder=\"0\"\n",
       "            allowfullscreen\n",
       "            \n",
       "        ></iframe>\n",
       "        "
      ],
      "text/plain": [
       "<IPython.lib.display.IFrame at 0x2edadae4d90>"
      ]
     },
     "metadata": {},
     "output_type": "display_data"
    }
   ],
   "source": [
    "# skeleton Dash app to be completed in this lab, downloaded from:\n",
    "# https://cf-courses-data.s3.us.cloud-object-storage.appdomain.cloud/IBM-DS0321EN-SkillsNetwork/labs/module_3/spacex_dash_app.py\n",
    "\n",
    "# Import required libraries\n",
    "# import pandas as pd\n",
    "# import dash\n",
    "# import dash_html_components as html\n",
    "# import dash_core_components as dcc\n",
    "# from dash.dependencies import Input, Output\n",
    "import plotly.express as px\n",
    "\n",
    "# Read the airline data into pandas dataframe\n",
    "# spacex_df = pd.read_csv(\"spacex_launch_dash.csv\")\n",
    "max_payload = spacex_df['Payload Mass (kg)'].max()\n",
    "min_payload = spacex_df['Payload Mass (kg)'].min()\n",
    "\n",
    "# Create a dash application\n",
    "# app = dash.Dash(__name__) # commented out as we are using JupyterDash instead of dash.Dash\n",
    "app = JupyterDash(__name__)\n",
    "\n",
    "# Create an app layout\n",
    "app.layout = html.Div(children=[html.H1('SpaceX Launch Records Dashboard',\n",
    "                                        style={'textAlign': 'center', 'color': '#503D36',\n",
    "                                               'font-size': 40}),\n",
    "                                # TASK 1: Add a dropdown list to enable Launch Site selection\n",
    "                                # The default select value is for ALL sites\n",
    "                                # dcc.Dropdown(id='site-dropdown',...)\n",
    "                                dcc.Dropdown(id='site-dropdown',\n",
    "                                             options=[\n",
    "                                                     {'label': 'All Sites', 'value': 'ALL'},\n",
    "                                                     {'label': 'CCAFS LC-40', 'value': 'CCAFS LC-40'},\n",
    "                                                     {'label': 'VAFB SLC-4E', 'value': 'VAFB SLC-4E'},\n",
    "                                                     {'label': 'KSC LC-39A', 'value': 'KSC LC-39A'},\n",
    "                                                     {'label': 'CCAFS SLC-40', 'value': 'CCAFS SLC-40'}\n",
    "                                                     ],\n",
    "                                             value='ALL',\n",
    "                                             placeholder='Select a Launch Site here',\n",
    "                                             searchable=True\n",
    "                                             # style={'width':'80%','padding':'3px','font-size':'20px','text-align-last':'center'}\n",
    "                                             ),\n",
    "                                html.Br(),\n",
    "\n",
    "                                # TASK 2: Add a pie chart to show the total successful launches count for all sites\n",
    "                                # If a specific launch site was selected, show the Success vs. Failed counts for the site\n",
    "                                html.Div(dcc.Graph(id='success-pie-chart')),\n",
    "                                html.Br(),\n",
    "\n",
    "                                html.P(\"Payload range (Kg):\"),\n",
    "                                # TASK 3: Add a slider to select payload range\n",
    "                                #dcc.RangeSlider(id='payload-slider',...)\n",
    "                                dcc.RangeSlider(id='payload-slider',\n",
    "                                                min=0,\n",
    "                                                max=10000,\n",
    "                                                step=1000,\n",
    "                                                value=[min_payload, max_payload]\n",
    "                                                ),\n",
    "\n",
    "                                # TASK 4: Add a scatter chart to show the correlation between payload and launch success\n",
    "                                html.Div(dcc.Graph(id='success-payload-scatter-chart')),\n",
    "                                ])\n",
    "\n",
    "# TASK 2:\n",
    "# Add a callback function for `site-dropdown` as input, `success-pie-chart` as output\n",
    "@app.callback(Output(component_id='success-pie-chart', component_property='figure'),\n",
    "              Input(component_id='site-dropdown', component_property='value'))\n",
    "def get_pie_chart(entered_site):\n",
    "    filtered_df = spacex_df\n",
    "    if entered_site == 'ALL':\n",
    "        fig = px.pie(filtered_df, values='class', \n",
    "        names='Launch Site', \n",
    "        title='Success Count for all launch sites')\n",
    "        return fig\n",
    "    else:\n",
    "        # return the outcomes piechart for a selected site\n",
    "        filtered_df=spacex_df[spacex_df['Launch Site']== entered_site]\n",
    "        filtered_df=filtered_df.groupby(['Launch Site','class']).size().reset_index(name='class count')\n",
    "        fig=px.pie(filtered_df,values='class count',names='class',title=f\"Total Success Launches for site {entered_site}\")\n",
    "        return fig\n",
    "\n",
    "# TASK 4:\n",
    "# Add a callback function for `site-dropdown` and `payload-slider` as inputs, `success-payload-scatter-chart` as output\n",
    "@app.callback(Output(component_id='success-payload-scatter-chart',component_property='figure'),\n",
    "                [Input(component_id='site-dropdown',component_property='value'),\n",
    "                Input(component_id='payload-slider',component_property='value')])\n",
    "def scatter(entered_site,payload):\n",
    "    filtered_df = spacex_df[spacex_df['Payload Mass (kg)'].between(payload[0],payload[1])]\n",
    "    # thought reusing filtered_df may cause issues, but tried it out of curiosity and it seems to be working fine\n",
    "    \n",
    "    if entered_site=='ALL':\n",
    "        fig=px.scatter(filtered_df,x='Payload Mass (kg)',y='class',color='Booster Version Category',title='Success count on Payload mass for all sites')\n",
    "        return fig\n",
    "    else:\n",
    "        fig=px.scatter(filtered_df[filtered_df['Launch Site']==entered_site],x='Payload Mass (kg)',y='class',color='Booster Version Category',title=f\"Success count on Payload mass for site {entered_site}\")\n",
    "        return fig\n",
    "\n",
    "# Run the app\n",
    "if __name__ == '__main__':\n",
    "    app.run_server(mode='inline', host='localhost')"
   ]
  },
  {
   "cell_type": "code",
   "execution_count": null,
   "id": "6ebdb318-64ec-472f-abc9-77da57adbbb1",
   "metadata": {},
   "outputs": [],
   "source": []
  }
 ],
 "metadata": {
  "kernelspec": {
   "display_name": "Python 3 (ipykernel)",
   "language": "python",
   "name": "python3"
  },
  "language_info": {
   "codemirror_mode": {
    "name": "ipython",
    "version": 3
   },
   "file_extension": ".py",
   "mimetype": "text/x-python",
   "name": "python",
   "nbconvert_exporter": "python",
   "pygments_lexer": "ipython3",
   "version": "3.8.15"
  },
  "vscode": {
   "interpreter": {
    "hash": "d86d92ee7acdc728181fa9c30818268f84bb4c77506e64db43eff0c6fd2d54c5"
   }
  }
 },
 "nbformat": 4,
 "nbformat_minor": 5
}
